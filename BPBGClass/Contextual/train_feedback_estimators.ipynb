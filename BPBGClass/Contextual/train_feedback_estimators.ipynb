{
 "cells": [
  {
   "attachments": {},
   "cell_type": "markdown",
   "metadata": {},
   "source": [
    "# Train feedback estimators \n",
    "\n",
    "* using Logistic and Linear Regression"
   ]
  },
  {
   "cell_type": "code",
   "execution_count": 1,
   "metadata": {},
   "outputs": [
    {
     "name": "stderr",
     "output_type": "stream",
     "text": [
      "2023-05-11 18:19:46.898594: I tensorflow/core/platform/cpu_feature_guard.cc:193] This TensorFlow binary is optimized with oneAPI Deep Neural Network Library (oneDNN) to use the following CPU instructions in performance-critical operations:  SSE4.1 SSE4.2 AVX AVX2 FMA\n",
      "To enable them in other operations, rebuild TensorFlow with the appropriate compiler flags.\n"
     ]
    }
   ],
   "source": [
    "import pandas as pd\n",
    "from sklearn.linear_model import LogisticRegression, LinearRegression\n",
    "from sklearn.neural_network import MLPRegressor\n",
    "from sklearn.model_selection import train_test_split\n",
    "from keras.models import Sequential\n",
    "from keras.layers import Activation, Dense\n",
    "import tensorflow as tf\n",
    "import pickle\n",
    "import numpy as np"
   ]
  },
  {
   "cell_type": "code",
   "execution_count": 2,
   "metadata": {},
   "outputs": [],
   "source": [
    "DATA= '../data/ACCORD_BGClass_v2_Contextual.csv'\n",
    "\n",
    "context_fea = ['baseline_age', 'female', 'race_whiteother', #'race_black', \n",
    "                # 'edu_baseline',\n",
    "                'edu_baseline_1',\n",
    "                'edu_baseline_2',\n",
    "                'edu_baseline_3',\n",
    "                'cvd_hx_baseline', \n",
    "                'baseline_BMI', \n",
    "                # 'baseline_BMI_discrete',\n",
    "                # 'cigarett_baseline',\n",
    "                'cigarett_baseline_1',\n",
    "                ]"
   ]
  },
  {
   "attachments": {},
   "cell_type": "markdown",
   "metadata": {},
   "source": [
    "## CVDRisk"
   ]
  },
  {
   "cell_type": "code",
   "execution_count": 3,
   "metadata": {},
   "outputs": [
    {
     "name": "stdout",
     "output_type": "stream",
     "text": [
      "(290467, 71)\n",
      "fea_cols =  ['baseline_age', 'female', 'race_whiteother', 'edu_baseline_1', 'edu_baseline_2', 'edu_baseline_3', 'cvd_hx_baseline', 'baseline_BMI', 'cigarett_baseline_1', 'hba1c_discrete_merged', 'Bingu', 'Thiaz', 'Sulfon', 'Meglit']\n",
      "X.shape =  (290467, 14)\n",
      "y.shape =  (290467,)\n",
      "train_score using all data =  0.7215440405431904\n",
      "RMSE =  0.07738871559122489\n",
      "coef =  [ 8.76747905e-02 -6.93316491e-01 -3.32210865e-01  1.92122328e-02\n",
      "  3.11208496e-02  2.05750104e-02  3.30404658e-02 -3.58291776e-08\n",
      "  6.55324920e-01  4.43589509e-02 -3.39867589e-02  2.97214150e-02\n",
      "  2.18979913e-02 -1.63248687e-02]\n",
      "intercept =  -6.503569285183271\n"
     ]
    }
   ],
   "source": [
    "# train a transformed linear regression model for CVD risk\n",
    "\n",
    "def train_CVDRisk_estimator_linear(fn):\n",
    "    # get the features and labels\n",
    "    df = pd.read_csv(fn)\n",
    "    print(df.shape)\n",
    "\n",
    "    medclass_cols =['Bingu', 'Thiaz', 'Sulfon', 'Meglit'] # pick top 4 most frequently used BG med classes\n",
    "\n",
    "    state_cols = ['hba1c_discrete_merged'] # state vector\n",
    "\n",
    "    fea_cols = context_fea + state_cols + medclass_cols\n",
    "    print('fea_cols = ', fea_cols)\n",
    " \n",
    "    X = df[fea_cols].values \n",
    "    y = df['CVDRisk_feedback'].values\n",
    "    y_true  = y\n",
    "\n",
    "    # transform the y to a linear scale\n",
    "    y = -np.log((1-y)/y)\n",
    "    \n",
    "    print('X.shape = ', X.shape)\n",
    "    print('y.shape = ', y.shape)\n",
    "    \n",
    "    # train the model on the whole dataset\n",
    "    estimator_all = LinearRegression().fit(X, y)\n",
    "    train_score_all = estimator_all.score(X, y)\n",
    "    print('train_score using all data = ', train_score_all)\n",
    "\n",
    "    # use RMSE as the evaluation metric\n",
    "    y_pred = estimator_all.predict(X)\n",
    "    y_pred_transformed = 1/(1+np.exp(-y_pred))\n",
    "    from sklearn.metrics import mean_squared_error\n",
    "    mse = mean_squared_error(y_true, y_pred_transformed)\n",
    "    rmse = np.sqrt(mse)\n",
    "    print('RMSE = ', rmse)\n",
    "\n",
    "    # print the coefficients\n",
    "    print('coef = ', estimator_all.coef_)\n",
    "    print('intercept = ', estimator_all.intercept_)\n",
    "\n",
    "    return estimator_all        \n",
    "\n",
    "CVDRisk_estimator_BG = train_CVDRisk_estimator_linear(DATA)\n",
    "\n",
    "# save the estimator model to a file\n",
    "import pickle\n",
    "with open('output/CVDRisk_estimator_BG.pkl', 'wb') as f:\n",
    "    pickle.dump(CVDRisk_estimator_BG, f)"
   ]
  },
  {
   "attachments": {},
   "cell_type": "markdown",
   "metadata": {},
   "source": [
    "## A1C"
   ]
  },
  {
   "cell_type": "code",
   "execution_count": 4,
   "metadata": {},
   "outputs": [
    {
     "name": "stdout",
     "output_type": "stream",
     "text": [
      "X.shape =  (290467, 13)\n",
      "y.shape =  (290467,)\n",
      "R2 score =  0.07088360129626337\n",
      "RMSE =  1.0216870943701364\n"
     ]
    }
   ],
   "source": [
    "# train a linear regression model for A1C feedback\n",
    "def train_A1C_estimator(fn):\n",
    "    # get the features and labels\n",
    "    df = pd.read_csv(fn)\n",
    "    # state_cols = ['sbp_discrete'] # state vector\n",
    "    state_cols = []\n",
    "\n",
    "    medclass_cols =['Bingu', 'Thiaz', 'Sulfon', 'Meglit'] # pick top 4 most frequently used BG med classes\n",
    "\n",
    "    fea_cols = context_fea + state_cols + medclass_cols\n",
    " \n",
    "    X = df[fea_cols].values \n",
    "    y = df['hba1c_feedback'].values\n",
    "\n",
    "    print('X.shape = ', X.shape)\n",
    "    print('y.shape = ', y.shape)\n",
    "    \n",
    "    from sklearn.linear_model import Lasso, Ridge\n",
    "    # estimator_all = Lasso(alpha=1).fit(X, y)\n",
    "    # estimator_all = Ridge(alpha=20).fit(X, y)\n",
    "    estimator_all = LinearRegression().fit(X, y)\n",
    "\n",
    "    train_score_all = estimator_all.score(X, y)\n",
    "    print('R2 score = ', train_score_all)\n",
    "    \n",
    "    # compute the RMSE score \n",
    "    y_pred = estimator_all.predict(X)\n",
    "    from sklearn.metrics import mean_squared_error\n",
    "    rmse = np.sqrt(mean_squared_error(y, y_pred))\n",
    "    print('RMSE = ', rmse)    \n",
    "\n",
    "    return estimator_all        \n",
    "    \n",
    "\n",
    "A1C_feedback_estimator_BG = train_A1C_estimator(DATA) \n",
    "\n",
    "import pickle\n",
    "with open('output/A1C_feedback_estimator_BG.pkl', 'wb') as f:\n",
    "    pickle.dump(A1C_feedback_estimator_BG, f)"
   ]
  },
  {
   "attachments": {},
   "cell_type": "markdown",
   "metadata": {},
   "source": [
    "## SBP"
   ]
  },
  {
   "cell_type": "code",
   "execution_count": 109,
   "metadata": {},
   "outputs": [
    {
     "name": "stdout",
     "output_type": "stream",
     "text": [
      "(176880, 83)\n",
      "fea_cols =  ['baseline_age', 'female', 'race_whiteother', 'edu_baseline_1', 'edu_baseline_2', 'edu_baseline_3', 'cvd_hx_baseline', 'baseline_BMI', 'cigarett_baseline_1', 'Diur', 'ACE', 'Beta-blocker', 'CCB']\n",
      "X.shape =  (176880, 13)\n",
      "y.shape =  (176880,)\n",
      "R2 score =  0.03377424467190182\n",
      "RMSE =  14.85657452468115\n"
     ]
    },
    {
     "ename": "NameError",
     "evalue": "name 'stop' is not defined",
     "output_type": "error",
     "traceback": [
      "\u001b[0;31m---------------------------------------------------------------------------\u001b[0m",
      "\u001b[0;31mNameError\u001b[0m                                 Traceback (most recent call last)",
      "Cell \u001b[0;32mIn[109], line 93\u001b[0m\n\u001b[1;32m     88\u001b[0m     \u001b[39mreturn\u001b[39;00m estimator_all        \n\u001b[1;32m     91\u001b[0m SBP_feedback_estimator \u001b[39m=\u001b[39m train_SBP_estimator(DATA)\n\u001b[0;32m---> 93\u001b[0m stop\n\u001b[1;32m     94\u001b[0m \u001b[39m# save the estimator model to a file\u001b[39;00m\n\u001b[1;32m     95\u001b[0m \u001b[39mimport\u001b[39;00m \u001b[39mpickle\u001b[39;00m\n",
      "\u001b[0;31mNameError\u001b[0m: name 'stop' is not defined"
     ]
    }
   ],
   "source": [
    "# # train a linear regression model for SBP feedback\n",
    "\n",
    "# def train_SBP_estimator(fn):\n",
    "#     # get the features and labels\n",
    "#     df = pd.read_csv(fn)\n",
    "#     print(df.shape)\n",
    "\n",
    "#     medclass_cols =['Diur', 'ACE', 'Beta-blocker', 'CCB'] # pick top 4 most frequently used BP med classes\n",
    "\n",
    "#     # state_cols = ['BMI_discrete']\n",
    "#     # state_cols = ['BMI']\n",
    "#     # state_cols = ['BMI', 'hba1c', 'TC', 'hdl']\n",
    "#     # state_cols = ['hba1c', 'TC', 'hdl']\n",
    "#     state_cols = []\n",
    "    \n",
    "#     fea_cols = context_fea + state_cols + medclass_cols\n",
    "#     # fea_cols = context_fea + medclass_cols\n",
    "#     # fea_cols = all_fea_cols # try to predict SBP from all features\n",
    "#     # fea_cols = ['BMI'] # try to predict SBP from BMI only\n",
    "#     print('fea_cols = ', fea_cols)\n",
    "\n",
    "#     # drop rows with -1 value in any of the features\n",
    "#     # for fea in fea_cols:\n",
    "#     #     df = df[df[fea] != -1]    \n",
    "\n",
    "#     # only keep rows with 'Visit' = 'F01'\n",
    "#     # df = df[df['Visit'] == 'F01']\n",
    "\n",
    "#     X = df[fea_cols].values \n",
    "#     y = df['sbp_feedback'].values\n",
    "\n",
    "#     # np.save('output/X_sbp.npy', X)\n",
    "#     # np.save('output/y_sbp.npy', y)\n",
    "\n",
    "#     # check for p values\n",
    "#     # import statsmodels.api as sm\n",
    "#     # X = sm.add_constant(X)\n",
    "#     # model = sm.OLS(y, X).fit()\n",
    "#     # print(model.summary())\n",
    "\n",
    "#     print('X.shape = ', X.shape)\n",
    "#     print('y.shape = ', y.shape)\n",
    "    \n",
    "#     # Split the data into training and testing sets\n",
    "#     # X_train, X_test, y_train, y_test = train_test_split(X, y, test_size=0.2, random_state=100)\n",
    "\n",
    "#     # use Lasso to fit the model\n",
    "#     # from sklearn.linear_model import Lasso\n",
    "#     # estimator = Lasso(alpha=1).fit(X_train, y_train)\n",
    "\n",
    "#     # use OLS to fit the model\n",
    "#     # from sklearn.linear_model import LinearRegression\n",
    "#     # estimator = LinearRegression().fit(X_train, y_train)\n",
    "\n",
    "#     # train_score = estimator.score(X_train, y_train)\n",
    "#     # test_score =  estimator.score(X_test, y_test)\n",
    "#     # print('train_score = ', train_score)\n",
    "#     # print('test_score = ', test_score)\n",
    "\n",
    "#     # # compute the RMSE score on the test set\n",
    "#     # y_pred = estimator.predict(X_test)\n",
    "#     # from sklearn.metrics import mean_squared_error\n",
    "#     # rmse = np.sqrt(mean_squared_error(y_test, y_pred))\n",
    "#     # print('Test RMSE = ', rmse)\n",
    "\n",
    "\n",
    "#     # # Train a linear regression model to predict the risk of CVD\n",
    "#     # lr = LinearRegression().fit(X_train, y_train)\n",
    "#     # train_score = lr.score(X_train, y_train)\n",
    "#     # test_score =  lr.score(X_test, y_test)\n",
    "#     # print('train_score = ', train_score)\n",
    "#     # print('test_score = ', test_score)\n",
    "\n",
    "#     # retrain the model on the whole dataset\n",
    "#     from sklearn.linear_model import Lasso, Ridge\n",
    "#     # estimator_all = Lasso(alpha=1).fit(X, y)\n",
    "#     # estimator_all = Ridge(alpha=20).fit(X, y)\n",
    "#     estimator_all = LinearRegression().fit(X, y)\n",
    "\n",
    "#     train_score_all = estimator_all.score(X, y)\n",
    "#     print('R2 score = ', train_score_all)\n",
    "    \n",
    "#     # compute the RMSE score \n",
    "#     y_pred = estimator_all.predict(X)\n",
    "#     from sklearn.metrics import mean_squared_error\n",
    "#     rmse = np.sqrt(mean_squared_error(y, y_pred))\n",
    "#     print('RMSE = ', rmse)    \n",
    "\n",
    "#     return estimator_all        \n",
    "    \n",
    "\n",
    "# SBP_feedback_estimator = train_SBP_estimator(DATA)\n",
    "\n",
    "# stop\n",
    "# # save the estimator model to a file\n",
    "# import pickle\n",
    "# with open('output/SBP_feedback_estimator.pkl', 'wb') as f:\n",
    "#     pickle.dump(SBP_feedback_estimator, f)"
   ]
  }
 ],
 "metadata": {
  "kernelspec": {
   "display_name": "tf",
   "language": "python",
   "name": "python3"
  },
  "language_info": {
   "codemirror_mode": {
    "name": "ipython",
    "version": 3
   },
   "file_extension": ".py",
   "mimetype": "text/x-python",
   "name": "python",
   "nbconvert_exporter": "python",
   "pygments_lexer": "ipython3",
   "version": "3.8.16"
  },
  "orig_nbformat": 4
 },
 "nbformat": 4,
 "nbformat_minor": 2
}
