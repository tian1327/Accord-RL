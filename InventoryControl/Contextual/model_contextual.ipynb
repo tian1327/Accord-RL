{
 "cells": [
  {
   "attachments": {},
   "cell_type": "markdown",
   "metadata": {},
   "source": [
    "# Setup Model"
   ]
  },
  {
   "cell_type": "code",
   "execution_count": 25,
   "metadata": {},
   "outputs": [],
   "source": [
    "import numpy as np\n",
    "import matplotlib.pyplot as plt\n",
    "import pandas as pd\n",
    "from UtilityMethods import utils\n",
    "import sys\n",
    "import pickle\n",
    "import time\n",
    "import pulp as p\n",
    "import math\n",
    "from copy import copy\n",
    "from tqdm import tqdm"
   ]
  },
  {
   "attachments": {},
   "cell_type": "markdown",
   "metadata": {},
   "source": [
    "## State space and action space"
   ]
  },
  {
   "cell_type": "code",
   "execution_count": 1,
   "metadata": {},
   "outputs": [
    {
     "name": "stdout",
     "output_type": "stream",
     "text": [
      "Actions for State 0: [0, 1, 2, 3, 4, 5, 6]\n",
      "Actions for State 1: [0, 1, 2, 3, 4, 5]\n",
      "Actions for State 6: [0]\n"
     ]
    }
   ],
   "source": [
    "# state space, actions available in each state vary with state\n",
    "\n",
    "N_STATES = 7\n",
    "\n",
    "# build the action space for each state\n",
    "ACTIONS_PER_STATE = {}\n",
    "for s in range(N_STATES):\n",
    "    ACTIONS_PER_STATE[s] = []\n",
    "    for a in range(N_STATES-s):\n",
    "        ACTIONS_PER_STATE[s].append(a) \n",
    "print('Actions for State 0:', ACTIONS_PER_STATE[0])\n",
    "print('Actions for State 1:', ACTIONS_PER_STATE[1])\n",
    "print('Actions for State 6:', ACTIONS_PER_STATE[6])"
   ]
  },
  {
   "attachments": {},
   "cell_type": "markdown",
   "metadata": {},
   "source": [
    "## Calculate empirical estimates of P"
   ]
  },
  {
   "cell_type": "code",
   "execution_count": 33,
   "metadata": {},
   "outputs": [
    {
     "name": "stdout",
     "output_type": "stream",
     "text": [
      "Finished adding action_code and state_code columns\n"
     ]
    }
   ],
   "source": [
    "# add the state and action code columns\n",
    "action_code = []\n",
    "state_code = []\n",
    "sbp_discrete_merged = []\n",
    "hba1c_discrete_merged = []\n",
    "for i in range(len(df)):\n",
    "    row = df.iloc[i]\n",
    "    s_code = ''\n",
    "    a_code = ''\n",
    "    for state_fea in state_features:\n",
    "        code = str(row[state_fea])\n",
    "\n",
    "        # merge 3 with 2 for sbp_discrete and TC_discrete\n",
    "        if state_fea == 'sbp_discrete':\n",
    "            code = sbp_discrete_code_dict[code]\n",
    "            sbp_discrete_merged.append(int(code))\n",
    "        elif state_fea == 'hba1c_discrete':\n",
    "            code = hba1c_discrete_code_dict[code]\n",
    "            hba1c_discrete_merged.append(int(code))\n",
    "        elif state_fea == 'TC_discrete':\n",
    "            code = TC_discrete_code_dict[code]\n",
    "        elif state_fea == 'hdl_discrete':\n",
    "            code = hdl_discrete_code_dict[code]\n",
    "        else:\n",
    "            raise ValueError('state_fea not recognized')\n",
    "            exit(1)       \n",
    "        \n",
    "        s_code += code\n",
    "    \n",
    "    for action_fea in action_features:\n",
    "        a_code += str(row[action_fea])\n",
    "    \n",
    "    action_code.append(a_code)\n",
    "    state_code.append(s_code)\n",
    "\n",
    "assert len(hba1c_discrete_merged) == len(df)\n",
    "\n",
    "df['sbp_discrete_merged'] = sbp_discrete_merged\n",
    "df['hba1c_discrete_merged'] = hba1c_discrete_merged\n",
    "df['action_code'] = action_code\n",
    "df['state_code'] = state_code\n",
    "print('Finished adding action_code and state_code columns')\n",
    "\n",
    "# DATA_MERGED = DATA[:-4] + '_merged.csv'\n",
    "# # write the merged data to file\n",
    "# df.to_csv(DATA_MERGED, index=False)"
   ]
  },
  {
   "cell_type": "code",
   "execution_count": 35,
   "metadata": {},
   "outputs": [
    {
     "name": "stderr",
     "output_type": "stream",
     "text": [
      "100%|██████████| 10251/10251 [00:44<00:00, 231.50it/s]"
     ]
    },
    {
     "name": "stdout",
     "output_type": "stream",
     "text": [
      "len(visit_number) = 3595\n",
      "averge visit_number = 38.666203059805284\n",
      "len(count_s_a) = 64\n",
      "len(count_s_a_d) = 256\n",
      "Finished counting by looping through the dataset\n"
     ]
    },
    {
     "name": "stderr",
     "output_type": "stream",
     "text": [
      "\n"
     ]
    }
   ],
   "source": [
    "#------------- calculate the empirical estimate of P based on entire dataset ----------------\n",
    "        \n",
    "count_s_a = {} # count the number of times state s and action a appear in the dataset, sparse format\n",
    "count_s_a_d = {} # count the number of times state s, action a, and next state s' appear in the dataset\n",
    "visit_number = [] # number of visits for each patient\n",
    "\n",
    "# loop through each patient in the dataset\n",
    "for i in tqdm(range(100001, 110252)):\n",
    "    df_patient = df[df['MaskID'] == i]\n",
    "\n",
    "    if len(df_patient) > 0:\n",
    "        visit_number.append(len(df_patient))\n",
    "\n",
    "    # loop through each visit of the patient\n",
    "    for j in range(len(df_patient)-1): # loop before last visit\n",
    "        row = df_patient.iloc[j]\n",
    "        s_code = row['state_code']\n",
    "        a_code = row['action_code']\n",
    "        ns_code = df_patient.iloc[j+1]['state_code']\n",
    "\n",
    "        # convert from code to index\n",
    "        s = state_code_to_index[s_code]\n",
    "        a = action_code_to_index[a_code]\n",
    "        s_ = state_code_to_index[ns_code]\n",
    "\n",
    "        if (s, a) not in count_s_a:\n",
    "            count_s_a[(s, a)] = 1\n",
    "        else:\n",
    "            count_s_a[(s, a)] += 1\n",
    "\n",
    "        if (s, a, s_) not in count_s_a_d:\n",
    "            count_s_a_d[(s, a, s_)] = 1\n",
    "        else:\n",
    "            count_s_a_d[(s, a, s_)] += 1\n",
    "\n",
    "print('len(visit_number) =', len(visit_number))\n",
    "print('averge visit_number =', sum(visit_number)/len(visit_number))\n",
    "\n",
    "print('len(count_s_a) =', len(count_s_a))\n",
    "print('len(count_s_a_d) =', len(count_s_a_d))\n",
    "print('Finished counting by looping through the dataset')"
   ]
  },
  {
   "attachments": {},
   "cell_type": "markdown",
   "metadata": {},
   "source": [
    "### Save the model settings"
   ]
  },
  {
   "cell_type": "code",
   "execution_count": 44,
   "metadata": {},
   "outputs": [],
   "source": [
    "EPISODE_LENGTH = 20 # average number of visits per patient\n",
    "# CONSTRAINT_list = [16, 10, 10] # deviation * 20 visits \n",
    "# C_b_list = [8, 5, 5]  # change this if you want different baseline policy.\n",
    "\n",
    "# CONSTRAINT_list = [166, 160, 160,\n",
    "#                    166, 160, 160,\n",
    "#                    166, 160, 160,]  \n",
    "\n",
    "CONSTRAINT1_list = [220] * N_STATES # deviation * 20 visits\n",
    "C1_b_list = [40] * N_STATES # constraint for baseline policy\n",
    "\n",
    "CONSTRAINT2_list = [16] * N_STATES # deviation * 20 visits \n",
    "C2_b_list = [8] * N_STATES  # constraint for baseline policy\n",
    "\n",
    "\n",
    "delta = 0.01 # bound"
   ]
  },
  {
   "cell_type": "code",
   "execution_count": 45,
   "metadata": {},
   "outputs": [
    {
     "name": "stdout",
     "output_type": "stream",
     "text": [
      "CONTEXT_VEC_LENGTH = 9\n",
      "ACTION_CODE_LENGTH = 4\n"
     ]
    }
   ],
   "source": [
    "# dump the model settings and parameters to a pickle file\n",
    "CONTEXT_VEC_LENGTH = len(context_fea)\n",
    "ACTION_CODE_LENGTH = len(action_index_to_code[0])\n",
    "print('CONTEXT_VEC_LENGTH =', CONTEXT_VEC_LENGTH)\n",
    "print('ACTION_CODE_LENGTH =', ACTION_CODE_LENGTH)\n",
    "\n",
    "with open('output_final/model_contextual_BPBG.pkl', 'wb') as f:\n",
    "    pickle.dump([P, CONTEXT_VEC_LENGTH, ACTION_CODE_LENGTH, CONTEXT_VECTOR_dict, INIT_STATE_INDEX, INIT_STATES_LIST,\n",
    "                CONSTRAINT1_list, C1_b_list, N_STATES, N_ACTIONS, ACTIONS_PER_STATE, EPISODE_LENGTH, delta], f)"
   ]
  }
 ],
 "metadata": {
  "kernelspec": {
   "display_name": "tf",
   "language": "python",
   "name": "python3"
  },
  "language_info": {
   "codemirror_mode": {
    "name": "ipython",
    "version": 3
   },
   "file_extension": ".py",
   "mimetype": "text/x-python",
   "name": "python",
   "nbconvert_exporter": "python",
   "pygments_lexer": "ipython3",
   "version": "3.8.16"
  },
  "orig_nbformat": 4,
  "vscode": {
   "interpreter": {
    "hash": "a9c86494cdbaab790faf1630f8596bee794fd9c939f53713dc51278a7ffca15d"
   }
  }
 },
 "nbformat": 4,
 "nbformat_minor": 2
}
