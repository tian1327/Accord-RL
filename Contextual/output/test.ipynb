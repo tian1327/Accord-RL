{
 "cells": [
  {
   "cell_type": "code",
   "execution_count": 46,
   "metadata": {},
   "outputs": [
    {
     "name": "stdout",
     "output_type": "stream",
     "text": [
      "[ 0.08647672 -0.71599168 -0.33732405  0.02057186  0.03697464  0.0296318\n",
      "  0.05699702  0.00443684  0.71938144  0.29171093 -0.01786874 -0.02156886\n",
      "  0.02849388 -0.01090756]\n",
      "-6.768294370801318\n"
     ]
    }
   ],
   "source": [
    "# load CVDRisk_estimator_BP.pkl from output folder\n",
    "import pickle\n",
    "\n",
    "with open('CVDRisk_estimator_BP.pkl', 'rb') as f:\n",
    "    model = pickle.load(f)\n",
    "    f.close()\n",
    "\n",
    "print(model.coef_)\n",
    "print(model.intercept_)"
   ]
  },
  {
   "cell_type": "code",
   "execution_count": 8,
   "metadata": {},
   "outputs": [
    {
     "name": "stdout",
     "output_type": "stream",
     "text": [
      "[[62.3        1.         1.         0.         0.         1.\n",
      "   0.        28.5119667  0.         0.         0.         0.\n",
      "   0.         0.       ]]\n",
      "(1, 14)\n",
      "model.predict(X) [-2.27797532]\n",
      "manual calculation:\n",
      "[0.08647672345597548, -0.7159916795088349, -0.3373240485386988, 0.020571862587462745, 0.03697463763512505, 0.029631800185378327, 0.05699701653020533, 0.004436842599651939, 0.7193814446747889, 0.291710927154881, -0.017868742059401813, -0.021568858038188452, 0.02849387935159807, -0.010907556840188879]\n",
      "[-6.768294370801318]\n"
     ]
    }
   ],
   "source": [
    "x = [62.3, 1.,         1.,         0.,         0.,         1.,\n",
    "  0.,        28.5119667,  0.,         0.,         0.,         0.,\n",
    "  0.,         0.,       ]\n",
    "\n",
    "import numpy as np\n",
    "X = np.array(x).reshape(1, -1)\n",
    "print(X)\n",
    "print(X.shape)\n",
    "print('model.predict(X)', model.predict(X))\n",
    "\n",
    "print('manual calculation:')\n",
    "\n",
    "coeef = list(model.coef_)\n",
    "intercep = [model.intercept_]\n",
    "print(coeef)\n",
    "print(intercep)"
   ]
  },
  {
   "cell_type": "code",
   "execution_count": 11,
   "metadata": {},
   "outputs": [
    {
     "name": "stdout",
     "output_type": "stream",
     "text": [
      "[ 0.08647672 -0.71599168 -0.33732405  0.02057186  0.03697464  0.0296318\n",
      "  0.05699702  0.00443684  0.71938144  0.29171093 -0.01786874 -0.02156886\n",
      "  0.02849388 -0.01090756]\n"
     ]
    }
   ],
   "source": [
    "wt_vec = np.array(coeef)\n",
    "print(wt_vec)"
   ]
  },
  {
   "cell_type": "code",
   "execution_count": 12,
   "metadata": {},
   "outputs": [
    {
     "name": "stdout",
     "output_type": "stream",
     "text": [
      "[-2.27797532]\n"
     ]
    }
   ],
   "source": [
    "res = np.dot(wt_vec, X.T) + intercep\n",
    "print(res)"
   ]
  },
  {
   "cell_type": "code",
   "execution_count": 47,
   "metadata": {},
   "outputs": [
    {
     "name": "stdout",
     "output_type": "stream",
     "text": [
      "(20, 14)\n",
      "(20, 1)\n",
      "cvdrisk: \n",
      " [[0.15007779]\n",
      " [0.11541242]\n",
      " [0.11541242]\n",
      " [0.11541242]\n",
      " [0.11541242]\n",
      " [0.09296354]\n",
      " [0.09296354]\n",
      " [0.09296354]\n",
      " [0.09296354]\n",
      " [0.09296354]\n",
      " [0.09296354]\n",
      " [0.09296354]\n",
      " [0.09296354]\n",
      " [0.11541242]\n",
      " [0.11541242]\n",
      " [0.11541242]\n",
      " [0.11541242]\n",
      " [0.09296354]\n",
      " [0.09296354]\n",
      " [0.08880447]]\n",
      "y_true: \n",
      " [[0.15007779]\n",
      " [0.11541242]\n",
      " [0.11541242]\n",
      " [0.11541242]\n",
      " [0.11541242]\n",
      " [0.09296354]\n",
      " [0.09296354]\n",
      " [0.09296354]\n",
      " [0.09296354]\n",
      " [0.09296354]\n",
      " [0.09296354]\n",
      " [0.09296354]\n",
      " [0.09296354]\n",
      " [0.11541242]\n",
      " [0.11541242]\n",
      " [0.11541242]\n",
      " [0.11541242]\n",
      " [0.09296354]\n",
      " [0.09296354]\n",
      " [0.08880447]]\n",
      "y_true.shape: \n",
      " (20, 1)\n",
      "diff: \n",
      " [[0.]\n",
      " [0.]\n",
      " [0.]\n",
      " [0.]\n",
      " [0.]\n",
      " [0.]\n",
      " [0.]\n",
      " [0.]\n",
      " [0.]\n",
      " [0.]\n",
      " [0.]\n",
      " [0.]\n",
      " [0.]\n",
      " [0.]\n",
      " [0.]\n",
      " [0.]\n",
      " [0.]\n",
      " [0.]\n",
      " [0.]\n",
      " [0.]]\n",
      "max diff: \n",
      " 0.0\n"
     ]
    }
   ],
   "source": [
    "# load the x_train.pkl from output folder\n",
    "with open('x_train.pkl', 'rb') as f:\n",
    "    x_train = pickle.load(f)\n",
    "\n",
    "print(x_train.shape)\n",
    "# print('x_train: \\n', x_train)\n",
    "\n",
    "# load the cvdrisk.pkl from output folder\n",
    "with open('cvdrisk.pkl', 'rb') as f:\n",
    "    cvdrisk = pickle.load(f)\n",
    "\n",
    "print(cvdrisk.shape)\n",
    "print('cvdrisk: \\n', cvdrisk)\n",
    "\n",
    "y_true_model_pred = model.predict(x_train)\n",
    "y_true = 1.0/(1.0+np.exp(-y_true_model_pred))\n",
    "\n",
    "# convert y_true's second dimension to 1\n",
    "y_true = y_true.reshape(-1, 1)\n",
    "\n",
    "print('y_true: \\n', y_true)\n",
    "print('y_true.shape: \\n', y_true.shape)\n",
    "\n",
    "# calculate cvdrisk - y_true\n",
    "diff = cvdrisk - y_true\n",
    "print('diff: \\n', diff)\n",
    "print('max diff: \\n', np.max(diff))\n"
   ]
  },
  {
   "cell_type": "code",
   "execution_count": 44,
   "metadata": {},
   "outputs": [
    {
     "name": "stdout",
     "output_type": "stream",
     "text": [
      "y_train.shape: \n",
      " (20,)\n",
      "reg.coef_: \n",
      " [ 3.74390086e-04  1.70286528e-13  5.27144994e-12  2.61818345e-13\n",
      "  0.00000000e+00  0.00000000e+00  0.00000000e+00 -1.24796696e-04\n",
      "  0.00000000e+00  2.91710927e-01 -1.97188000e-02 -1.97188000e-02\n",
      "  0.00000000e+00 -1.09075568e-02]\n",
      "reg.intercept_: \n",
      " -2.2977416220296676\n",
      "reg.score(x_train, cvdrisk): \n",
      " 1.0\n",
      "model.coef_: \n",
      " [ 0.08647672 -0.71599168 -0.33732405  0.02057186  0.03697464  0.0296318\n",
      "  0.05699702  0.00443684  0.71938144  0.29171093 -0.01786874 -0.02156886\n",
      "  0.02849388 -0.01090756]\n",
      "model.intercept_: \n",
      " -6.768294370801318\n"
     ]
    }
   ],
   "source": [
    "# use a linear regression model to fit x_train and cvdrisk\n",
    "from sklearn.linear_model import LinearRegression\n",
    "y = cvdrisk\n",
    "y_train = -np.log((1.0-y)/y) \n",
    "y_train = y_train[:,0]\n",
    "print('y_train.shape: \\n', y_train.shape)\n",
    "\n",
    "reg = LinearRegression().fit(x_train, y_train)\n",
    "print('reg.coef_: \\n', reg.coef_)\n",
    "print('reg.intercept_: \\n', reg.intercept_)\n",
    "print('reg.score(x_train, cvdrisk): \\n', reg.score(x_train, y_train))\n",
    "\n",
    "# print the coefficients of model\n",
    "print('model.coef_: \\n', model.coef_)\n",
    "print('model.intercept_: \\n', model.intercept_)\n"
   ]
  },
  {
   "cell_type": "code",
   "execution_count": 48,
   "metadata": {},
   "outputs": [
    {
     "name": "stdout",
     "output_type": "stream",
     "text": [
      "x_train.shape: (176880, 14)\n",
      "y_train.shape: (176880,)\n",
      "reg.coef_: \n",
      " [ 0.08647672 -0.71599168 -0.33732405  0.02057186  0.03697464  0.0296318\n",
      "  0.05699702  0.00443684  0.71938144  0.29171093 -0.01786874 -0.02156886\n",
      "  0.02849388 -0.01090756]\n",
      "reg.intercept_: \n",
      " -6.768294370801318\n",
      "reg.score(x_train, cvdrisk): \n",
      " 0.7918751124374861\n"
     ]
    }
   ],
   "source": [
    "x_train = np.load('X.npy')\n",
    "print('x_train.shape:', x_train.shape)\n",
    "y_train = np.load('y.npy')\n",
    "print('y_train.shape:', y_train.shape)\n",
    "\n",
    "\n",
    "reg = LinearRegression().fit(x_train, y_train)\n",
    "print('reg.coef_: \\n', reg.coef_)\n",
    "print('reg.intercept_: \\n', reg.intercept_)\n",
    "print('reg.score(x_train, cvdrisk): \\n', reg.score(x_train, y_train))"
   ]
  },
  {
   "cell_type": "markdown",
   "metadata": {},
   "source": []
  },
  {
   "cell_type": "code",
   "execution_count": null,
   "metadata": {},
   "outputs": [],
   "source": []
  }
 ],
 "metadata": {
  "kernelspec": {
   "display_name": "tf",
   "language": "python",
   "name": "python3"
  },
  "language_info": {
   "codemirror_mode": {
    "name": "ipython",
    "version": 3
   },
   "file_extension": ".py",
   "mimetype": "text/x-python",
   "name": "python",
   "nbconvert_exporter": "python",
   "pygments_lexer": "ipython3",
   "version": "3.8.16"
  },
  "orig_nbformat": 4
 },
 "nbformat": 4,
 "nbformat_minor": 2
}
